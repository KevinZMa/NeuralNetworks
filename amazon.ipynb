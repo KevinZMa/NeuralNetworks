{
 "cells": [
  {
   "cell_type": "code",
   "execution_count": 1,
   "id": "1b81e93f",
   "metadata": {
    "vscode": {
     "languageId": "shellscript"
    }
   },
   "outputs": [],
   "source": [
    "#! pip install -U \"datasets<4.0.0\" torch"
   ]
  },
  {
   "cell_type": "code",
   "execution_count": 2,
   "id": "739706ea",
   "metadata": {},
   "outputs": [
    {
     "data": {
      "text/plain": [
       "'\\nformat:\\n{rating: int, title: str, text: str}\\n'"
      ]
     },
     "execution_count": 2,
     "metadata": {},
     "output_type": "execute_result"
    }
   ],
   "source": [
    "from datasets import load_dataset\n",
    "\n",
    "from joblib import Parallel, delayed\n",
    "import torch\n",
    "import torch.nn as nn\n",
    "import torch.optim as optim\n",
    "from torch.utils.data import TensorDataset, DataLoader\n",
    "\n",
    "from tqdm import tqdm\n",
    "# from matplotlib import pyplot as plt\n",
    "\n",
    "import json\n",
    "\n",
    "import time\n",
    "\n",
    "mps = torch.device(\"mps\")\n",
    "\n",
    "dataset = load_dataset(\n",
    "    \"McAuley-Lab/Amazon-Reviews-2023\", \"raw_review_Software\", trust_remote_code=True\n",
    ")\n",
    "# TODO: download to volume\n",
    "\"\"\"\n",
    "format:\n",
    "{rating: int, title: str, text: str}\n",
    "\"\"\"\n"
   ]
  },
  {
   "cell_type": "code",
   "execution_count": 3,
   "id": "75aebafd",
   "metadata": {},
   "outputs": [
    {
     "name": "stdout",
     "output_type": "stream",
     "text": [
      "MPS available: True\n"
     ]
    }
   ],
   "source": [
    "print(f\"MPS available: {torch.backends.mps.is_available()}\")\n"
   ]
  },
  {
   "cell_type": "code",
   "execution_count": null,
   "id": "c560a895",
   "metadata": {},
   "outputs": [
    {
     "data": {
      "text/plain": [
       "4880181"
      ]
     },
     "execution_count": 4,
     "metadata": {},
     "output_type": "execute_result"
    }
   ],
   "source": [
    "n_samples = len(dataset[\"full\"][\"text\"])  # 480000\n",
    "n_samples\n",
    "\n",
    "# linear to size of dataset\n",
    "# linear to number of params\n",
    "# linear to number of batches (not size)"
   ]
  },
  {
   "cell_type": "code",
   "execution_count": 11,
   "id": "f4c2136c",
   "metadata": {},
   "outputs": [
    {
     "data": {
      "text/plain": [
       "tensor([False,  True,  True,  ...,  True,  True,  True])"
      ]
     },
     "execution_count": 11,
     "metadata": {},
     "output_type": "execute_result"
    }
   ],
   "source": [
    "n_samples = n_samples // 100\n",
    "X = dataset[\"full\"][\"text\"][:n_samples]\n",
    "# X_test = dataset[\"full\"][\"text\"][200000:225000]\n",
    "\n",
    "y = torch.tensor(dataset[\"full\"][\"rating\"][:n_samples]) >= 4\n",
    "\n",
    "y"
   ]
  },
  {
   "cell_type": "code",
   "execution_count": 6,
   "id": "b896dd81",
   "metadata": {},
   "outputs": [],
   "source": [
    "bag_of_words = {}"
   ]
  },
  {
   "cell_type": "code",
   "execution_count": null,
   "id": "b75b7c6b",
   "metadata": {},
   "outputs": [],
   "source": [
    "import re\n",
    "\n",
    "\n",
    "def split_text(text: str) -> list[str]:\n",
    "    text = text.lower().strip()\n",
    "    text = re.sub(r\"[^a-z0-9\\s]\", \"\", text)\n",
    "    words = re.split(r\"\\s+\", text)\n",
    "    return words\n",
    "\n",
    "\n",
    "total_words = 0\n",
    "\n",
    "\n",
    "def add_to_bag(text: str) -> None:\n",
    "    global total_words\n",
    "    words = split_text(text)\n",
    "    total_words += len(words)\n",
    "    for word in words:\n",
    "        bag_of_words[word] = bag_of_words.get(word, 0) + 1\n"
   ]
  },
  {
   "cell_type": "code",
   "execution_count": 10,
   "id": "d077ea04",
   "metadata": {},
   "outputs": [
    {
     "name": "stdout",
     "output_type": "stream",
     "text": [
      "681990\n",
      "57943\n",
      "{'game': 1888954, 'not': 1022218, 'fun': 865255, 'app': 843716, 'love': 789422, 'dont': 353434, 'easy': 334655, 'games': 302878, 'free': 264502, 'kindle': 241237, 'playing': 239356, 'cant': 223430, 'than': 221767, 'works': 193920, 'version': 188111, 'lot': 170009, 'fire': 169629, 'software': 168418, 'product': 164926, 'recommend': 164468, 'awesome': 163229, 'enjoy': 151775, 'program': 150635, 'buy': 141551, 'amazon': 138783, 'download': 135682, 'nice': 134211, 'using': 133472, 'hard': 132966, 'watch': 129709, 'doesnt': 126888, 'challenging': 125522, 'far': 125298, 'didnt': 124095, 'able': 119436, 'update': 114946, 'ever': 111404, 'computer': 108468, 'graphics': 108115, 'wish': 107801, 'kids': 107117, 'again': 99956, 'makes': 99898, 'tv': 99897, 'level': 99303, 'levels': 98839, '5': 98234, 'windows': 97175, 'phone': 96113, 'worth': 94777, 'cool': 93218, 'lots': 92194, 'stars': 92117, 'having': 88932, 'puzzles': 88927, '2': 88598, '3': 88111, 'shows': 86299, 'going': 86197, 'keeps': 85599, 'hours': 82609, 'screen': 82386, 'wont': 81091, 'music': 80557, 'apps': 78602, 'addictive': 78572, 'getting': 78320, 'downloaded': 77683, 'once': 76353, 'u': 73963, 'simple': 73420, 'real': 73328, 'trying': 71384, 'word': 71336, 'support': 70729, 'loves': 70202, 'looking': 68824, 'amazing': 68470, 'price': 67911, 'install': 65865, 'fast': 65627, 'seems': 65501, 'bit': 65274, 'purchase': 65259, 'favorite': 64351, 'bought': 63819, 'read': 63443, 'coins': 63261, 'tablet': 63122, 'ads': 62685, 'own': 61819, 'fix': 61421, 'friends': 61329, 'available': 61185, '10': 60379, 'thats': 60120, 'needs': 59737, 'addicting': 59358, 'gets': 59204, 'video': 59051, 'movies': 58815, '4': 58644, 'open': 58501, 'takes': 57982, 'working': 57767, 'service': 57268, 'started': 57201, 'tax': 56730, 'highly': 55742, 'actually': 55581, 'puzzle': 55377, 'fine': 55009, 'add': 54725, 'user': 54271, 'difficult': 54258, '1': 53632, 'happy': 53194, 'minutes': 52268, 'excellent': 51890, 'review': 51782, 'learn': 51363, 'wait': 51290, 'words': 51192, 'spend': 50922, 'stop': 50849, 'upgrade': 50757, 'done': 50386, 'quicken': 50238, 'features': 49856, 'family': 49706, 'pc': 49430, 'waste': 49364, 'mind': 49281, 'access': 48829, 'purchased': 48201, 'stuff': 48063, 'pass': 48041, '7': 47557, 'havent': 47435, 'cute': 47390, 'full': 47221, 'issues': 47171, 'system': 47160, 'challenge': 47086, 'says': 46241, 'super': 46196, 'doing': 46114, 'device': 45896, 'load': 45868, 'installed': 45678, 'loved': 45477, 'internet': 45450, 'star': 45323, 'figure': 45319, 'slow': 44911, 'cannot': 44875, 'perfect': 43981, 'online': 43953, 'learning': 43875, 'couldnt': 43728, 'interesting': 43579, 'youre': 43524, 'hope': 43383, 'options': 42950, 'entertaining': 42613, 'win': 42325, 'brain': 42270, 'enjoyed': 41961, 'boring': 41563, 'pictures': 41363, 'especially': 41231, 'quality': 41213, 'isnt': 41123, 'away': 40599, 'file': 40194, 'order': 40146, 'programs': 39862, 'account': 39614, 'easier': 39558, 'option': 39475, 'helps': 38763, 'choose': 38220, 'son': 38161, 'overall': 37807, 'issue': 37781, 'watching': 37721, 'etc': 37653, 'id': 37620, 'gives': 37520, 'relaxing': 37328, 'finally': 37314, 'reviews': 37297, 'daughter': 37240, 'cable': 37150, 'else': 36822, 'theres': 36719, 'frustrating': 36593, 'instead': 36517, 'quick': 36421, 'android': 36420, 'reason': 36387, 'quickly': 36273, 'customer': 36179, 'files': 36104, 'kind': 36070, 'making': 35988, 'plus': 35758, 'annoying': 35735, 'deleted': 35703, 'news': 35608, 'complete': 35474, 'updates': 35311, 'norton': 35186, 'mac': 35017, 'understand': 35002, 'cost': 34963, 'disappointed': 34813, 'variety': 34777, 'save': 34592, 'sound': 34587, 'turbotax': 34481, 'wouldnt': 34416, 'running': 34381, 'whole': 34101, 'facebook': 33984, 'story': 33962, 'feature': 33792, 'microsoft': 33570, 'waiting': 33453, 'office': 33186, 'card': 33134, 'ones': 33126, 'wasnt': 33042, '8': 33041, 'books': 32676, 'items': 32613, 'couple': 32612, 'ill': 32502, 'type': 32502, 'enjoyable': 32469, 'videos': 32282, 'guess': 31574, 'content': 31284, 'hate': 31238, 'return': 31228, 'subscription': 31057, 'book': 30882, 'picture': 30849, 'glad': 30652, 'reading': 30608, 'check': 30505, 'helpful': 30387, 'state': 30297, 'channel': 30092, 'bingo': 30064, 'hd': 30058, 'devices': 29966, 'stick': 29779, 'easily': 29747, 'store': 29677, 'daily': 29662, 'search': 29461, 'interface': 29237, 'email': 29226, 'movie': 29079, 'buying': 28830, 'line': 28644, 'enjoying': 28543, 'ago': 28474, 'netflix': 28439, 'extra': 28439, 'characters': 28392, 'wonderful': 28375, 'click': 28137, 'experience': 28069, 'bored': 27850, 'weather': 27787, 'drive': 27672, 'looks': 27653, 'prime': 27283, 'myself': 27222, 'create': 27113, 'useful': 27039, 'months': 26960, 'button': 26922, 'otherwise': 26802, 'pro': 26748, 'thinking': 26714, 'stuck': 26671, 'comes': 26532, 'rate': 26451, 'expected': 26440, 'error': 26390, 'streaming': 26275, 'laptop': 26203, 'site': 26131, 'page': 26060, 'list': 25892, 'youll': 25802, 'plays': 25782, 'crashes': 25619, '6': 25530, 'versions': 25496, 'itbr': 25457, 'older': 25345, 'basic': 25301, 'month': 25178, 'multiple': 25153, 'spent': 24997, 'forward': 24968, 'delete': 24903, 'listen': 24833, 'goes': 24814, 'sounds': 24807, 'clear': 24782, 'ages': 24742, 'beat': 24687, 'night': 24631, 'taxes': 24594, 'later': 24515, 'products': 24477, 'friendly': 24304, 'color': 24295, 'google': 24254, 'application': 24204, 'cards': 24108, 'addicted': 24061, '20': 24055, 'turbo': 24024, 'instructions': 23610, 'call': 23517, 'amp': 23456, 'hour': 23354, 'downloading': 23353, 'updated': 23298, 'earn': 23297, 'deal': 23259, 'allow': 23182, 'paying': 23070, 'together': 23068, 'allows': 23068, 'selection': 23041, 'box': 23019, 'challenges': 23019, 'commercials': 22983, 'likes': 22807, 'security': 22754, 'hints': 22690, 'amount': 22653, 'close': 22483, 'original': 22473, 'channels': 22421, 'expensive': 22265, 'youtube': 22204, 'week': 22065, 'hidden': 21989, 'tool': 21963, 'colors': 21955, 'website': 21943, 'given': 21906, 'itself': 21857, 'player': 21775, 'tech': 21702, 'code': 21694, 'ability': 21690, 'recommended': 21591, 'care': 21563, 'name': 21561, 'control': 21558, 'seen': 21407, 'process': 21335, 'bonus': 21241, 'beautiful': 21229, 'harder': 21095, 'refund': 21017, 'pick': 20983, 'mode': 20982, 'except': 20912, 'wifi': 20910, 'match': 20892, 'called': 20867, 'constantly': 20798, 'rating': 20742, 'simply': 20630, 'info': 20612, 'minecraft': 20594, 'sucks': 20576, 'view': 20573, '30': 20563, 'uninstalled': 20558, 'ask': 20546, 'pieces': 20438, 'fixed': 20413, 'progress': 20332, 'added': 20264, 'users': 20171, 'lets': 20120, 'controls': 20099, 'saying': 20051, 'freezes': 20021, 'limited': 19973, 'decided': 19929, 'item': 19917, 'build': 19913, 'lol': 19848, 'intuit': 19835, 'room': 19818, 'space': 19789, 'fan': 19625, 'stupid': 19615, 'faster': 19607, 'similar': 19467, 'message': 19376, 'web': 19263, 'series': 19196, 'course': 19165, 'runs': 19106, 'slots': 19105, 'trouble': 19032, 'glitches': 19020, 'impossible': 18721, 'players': 18691, 'key': 18659, 'connect': 18654, 'hit': 18630, 'grandson': 18626, 'choices': 18607, 'half': 18589, 'useless': 18542, 'power': 18510, 'computers': 18467, 'terrible': 18419, 'remember': 18396, 'kill': 18313, 'busy': 18312, 'touch': 18270, 'yourself': 18264, 'track': 18110, 'print': 18103, 'desktop': 18092, 'due': 18074, 'xp': 18028, 'certain': 18011, 'today': 17988, 'unable': 17986, 'school': 17942, 'installation': 17908, 'stay': 17903, 'trial': 17882, 'network': 17825, 'weeks': 17820, 'current': 17794, 'os': 17762, 'speed': 17685, 'mean': 17612, 'funny': 17522, 'copy': 17506, '100': 17481, 'choice': 17440, 'connection': 17438, 'received': 17430, 'photos': 17387, 'ad': 17249, 'gamebr': 17231, 'coming': 17190, 'arent': 17145, 'candy': 17056, 'wants': 17040, 'language': 17025, 'giving': 17006, 'local': 16922, 'accurate': 16899, '15': 16881, 'text': 16811, 'friend': 16689, 'decent': 16659, 'adds': 16527, 'pop': 16514, 'background': 16483, 'horrible': 16471, 'offer': 16466, 'navigate': 16348, 'kid': 16315, 'mobile': 16258, 'settings': 16216, 'design': 16118, 'bugs': 16099, 'uninstall': 16073, 'difficulty': 16066, 'memory': 16066, 'date': 16014, 'lives': 16010, 'expect': 15974, 'additional': 15920, 'block': 15916, 'supposed': 15875, 'stopped': 15871, 'interest': 15727, 'cd': 15725, 'matter': 15724, 'single': 15685, 'hooked': 15624, 'fantastic': 15607, 'whats': 15599, 'apple': 15596, 'solitaire': 15577, 'sign': 15573, 'spending': 15572, 'based': 15552, 'opinion': 15528, 'send': 15508, 'songs': 15497, 'cause': 15484, 'alot': 15423, 'machine': 15386, 'poor': 15376, 'latest': 15342, 'correct': 15253, 'audio': 15240, 'requires': 15228, '12': 15221, 'interested': 15215, 'age': 15212, 'log': 15201, 'huge': 15177, 'anymore': 15169, 'everyday': 15090, 'slot': 15089, 'stream': 15048, 'forever': 15023, 'library': 15020, 'package': 15000, 'large': 14999, 'car': 14991, 'charge': 14981, 'enter': 14952, 'starts': 14951, 'unlock': 14949, 'possible': 14879, 'entire': 14867, 'asked': 14865, 'editing': 14793, 'purchasing': 14775, 'dragon': 14738, 'actual': 14727, 'perfectly': 14712, 'personal': 14697, 'taking': 14595, 'creative': 14589, 'value': 14577, 'menu': 14565, 'oh': 14535, 'purchases': 14525, 'finding': 14505, 'moves': 14492, 'note': 14479, 'dvd': 14474, 'required': 14472, 'loaded': 14471, 's': 14455, 'gone': 14276, 'solve': 14273, 'animals': 14224, 'sleep': 14212, 'kinda': 14135, 'main': 14084, 'pleased': 14071, 'immediately': 14046, 'chance': 14017, 'objects': 14012, 'recently': 13971, 'credit': 13971, 'format': 13882, 'husband': 13872, 'crush': 13833, 'installing': 13821, 'ordered': 13784, 'confusing': 13776, 'clean': 13772, 'regular': 13772, 'seconds': 13759, 'virus': 13743, 'compatible': 13672, 'total': 13638, 'object': 13612, 'episodes': 13597, 'twice': 13553, 'relax': 13547, 'iphone': 13536, 'area': 13516, 'firestick': 13511, 'anyway': 13469, 'attention': 13435, 'accounts': 13406, 'uses': 13386, 'piece': 13362, 'fish': 13356, 'gotten': 13345, 'advertised': 13301, 'provider': 13290, 'granddaughter': 13262, 'loading': 13236, 'function': 13236, 'offers': 13232, 'draw': 13226, 'gameplay': 13219, 'score': 13216, 'hulu': 13203, 'upgraded': 13151, 'remove': 13146, 'special': 13144, 'photo': 13135, 'intuitive': 13109, 'moving': 13099, 'entertainment': 13090, 'whatever': 13090, 'plan': 13066, 'vista': 13037, 'password': 12999, 'step': 12997, 'guys': 12991, 'removed': 12990, 'missing': 12958, 'battery': 12867, 'select': 12860, 'complaint': 12859, 'truly': 12826, 'including': 12815, 'antivirus': 12797, 'ready': 12792, 'changed': 12779, 'board': 12763, 'edition': 12723, 'keeping': 12710, 'basically': 12679, 'per': 12674, 'various': 12650, 'form': 12624, '9': 12623, 'tools': 12620, 'ipad': 12595, 'skills': 12562, 'backup': 12545, 'future': 12528, 'rest': 12483, 'd': 12473, 'mine': 12451, 'finished': 12426, 'saved': 12422, 'black': 12396, 'hoping': 12391, 'radio': 12364, 'birds': 12363, 'automatically': 12358, 'prefer': 12353, 'alexa': 12333, 'cut': 12318, 'letters': 12315, 'ms': 12304, 'loads': 12275, 'properly': 12256, 'gems': 12254, 'smart': 12245, 'voice': 12223, 'deluxe': 12155, 'handy': 12141, 'disk': 12112, 'starting': 12094, 'developers': 12083, 'developer': 12080, 'suggest': 12078, 'entertained': 12049, 'angry': 12046, 'link': 12045, 'exciting': 12032, 'major': 12013, 'types': 11994, 'luck': 11953, 'cancel': 11900, 'complicated': 11896, 'tap': 11893, 'size': 11892, 'means': 11889, 'minute': 11876, 'energy': 11867, 'contact': 11822, 'frustrated': 11792, 'recipes': 11784, 'protection': 11745, 'require': 11729, 'dragons': 11717, 'crazy': 11714, 'calculator': 11701, 'hr': 11692, 'crash': 11670, 'switch': 11656, 'sent': 11636, 'ease': 11611, 'edit': 11575, 'asking': 11567, 'customers': 11540, 'share': 11502, 'reinstall': 11478, 'casino': 11476, 'character': 11470, 'cloud': 11456, 'mostly': 11454, 'writing': 11454, 'awhile': 11444, 'bank': 11421, 'sense': 11387, 'paper': 11386, 'miss': 11353, 'building': 11340, 'excited': 11284, 'test': 11276, 'gold': 11255, 'wife': 11221, 'impressed': 11219, 'dollars': 11163, 'learned': 11138, 'mcafee': 11130, 'restart': 11120, 'force': 11084, 'adults': 11080, 'ended': 11050, 'provides': 11025, 'addition': 10960, 'theyre': 10956, 'practice': 10908, 'effects': 10902, 'figured': 10872, 'chat': 10872, 'crashing': 10851, 'pages': 10850, 'professional': 10818, 'quickbooks': 10810, 'smooth': 10794, 'rid': 10788, 'media': 10730, 'camera': 10674, 'tons': 10674, 'tells': 10671, 'youve': 10665, 'offered': 10626, 'upgrades': 10610, 'image': 10597, 'map': 10585, 'designed': 10584, 'whenever': 10551, 'style': 10548, 'remote': 10506, 'enjoys': 10500, 'middle': 10490, 'setup': 10486, 'seeing': 10485, 'ups': 10440, 'break': 10429, 'watched': 10412, 'bug': 10360, 'song': 10347, 'setting': 10345, 'transfer': 10340, 'forms': 10321, 'action': 10314, 'happens': 10308, 'wow': 10275, 'art': 10263, 'created': 10262, '50': 10233, 'classic': 10199, 'episode': 10191, 'samsung': 10181, 'programming': 10145, 'digital': 10139, 'food': 10135, 'satisfied': 10125, 'functions': 10122, 'premium': 10111, 'appears': 10110, 'light': 10099, 'notes': 10089, 'quit': 10072, 'complaints': 9934, 'correctly': 9933, 'hint': 9926, 'sync': 9915, 'forced': 9899, 'christmas': 9893, 'response': 9873, 'sort': 9869, 'x': 9832, 'clues': 9828, 'compared': 9816, 'tired': 9795, 'crashed': 9782, 'galaxy': 9779, 'further': 9776, 'mini': 9756, 'temple': 9740, 'spanish': 9736, 'completed': 9729, 'operating': 9691, 'disappointing': 9671, 'market': 9667, 'concept': 9663, 'pdf': 9650, 'glitch': 9650, 'team': 9640, 'browser': 9637, 'negative': 9630, '2014': 9624, 'strategy': 9623, 'cash': 9622, 'random': 9619, 'seriously': 9609, 'early': 9579, 'crap': 9562, 'stations': 9523, 'zero': 9515, 'listening': 9510, 'cheaper': 9496, 'services': 9487, 'skip': 9479, 'opened': 9450, 'surprised': 9444, 'costs': 9433, 'educational': 9432, 'adding': 9407, 'killer': 9388, 'shut': 9364, 'bother': 9358, 'images': 9357, 'bunch': 9335, 'telling': 9329, 'freezing': 9311, 'wasted': 9307, 'connected': 9282, 'morning': 9236, 'disc': 9223, 'sports': 9219, 'newer': 9200, 'station': 9192, 'bonuses': 9179, 'deleting': 9166, 'receive': 9154, 'freeze': 9142, 'advance': 9110, 'history': 9107, 'fee': 9095, 'import': 9093, 'convenient': 9070, 'catch': 9054, 'sad': 9041, 'standard': 9039, 'tasks': 9027, 'directly': 9006, 'tiles': 8999, 'recent': 8967, 'transactions': 8965, 'solution': 8954, 'missed': 8936, 'realistic': 8928, 'functionality': 8923, 'allowed': 8906, 'ridiculous': 8874, 'rewards': 8854, 'documents': 8834, 'alone': 8814, 'hopefully': 8794, 'improve': 8787, 'tablets': 8781, 'turns': 8776, 'creating': 8770, 'manually': 8758, 'scenes': 8752, 'trust': 8749, 'ahead': 8745, 'collect': 8710, 'technical': 8709, 'fair': 8698, '11': 8690, 'guide': 8684, 'english': 8666, 'forget': 8658, 'stress': 8654, 'scan': 8652, 'directions': 8644, 'road': 8626, 'rooms': 8607, 'section': 8594, 'difference': 8559, 'credits': 8551, 'taken': 8546, 'season': 8538, 'straight': 8535, 'errors': 8531, 'jump': 8526, 'shop': 8519, 'window': 8517, 'putting': 8483, 'sims': 8481, 'locked': 8465, 't': 8461, 'cat': 8453, 'alarm': 8453, 'appreciate': 8429, 'mahjong': 8421, 'gift': 8417, 'eventually': 8406, 'license': 8401, 'yeah': 8388, 'talking': 8383, 'record': 8370, 'math': 8367, 'plz': 8340, 'federal': 8339, 'location': 8338, 'n': 8334, 'title': 8329, 'exercise': 8320, 'corel': 8300, 'reset': 8293, 'unlike': 8288, 'favorites': 8280, 'mom': 8272, 'realize': 8272, 'release': 8272, 'city': 8247, 'wanting': 8239, 'stops': 8227, 'colorful': 8224, 'frequently': 8207, '99': 8174, '2013': 8171, 'address': 8160, 'pinterest': 8153, 'cbs': 8140, 'noticed': 8138, 'commercial': 8112, 'constant': 8078, 'storage': 8072, 'performance': 8068, 'awsome': 8068, 'yr': 8061, 'currently': 8059, 'thru': 8059, 'sell': 8052, 'bible': 8046, 'description': 8044, 'e': 8044, 'lack': 8037, 'weird': 8033, 'safe': 8028, 'described': 8026, 'specific': 8007, 'suite': 8001, 'literally': 8000, 'r': 7986, 'display': 7978, 'monthly': 7976, 'post': 7976, 'ur': 7971, 'failed': 7966, 'server': 7958, 'pain': 7949, 'mistake': 7931, 'honestly': 7922, 'drawing': 7922, 'junk': 7911, 'kaspersky': 7909, 'maps': 7862, 'guy': 7850, 'clock': 7849, 'downloads': 7838, 'cheap': 7836, 'baby': 7823, 'necessary': 7819, 'white': 7798, '25': 7796, 'keyboard': 7788, 'girl': 7779, 'timer': 7763, 'buttons': 7743, 'adobe': 7737, 'phones': 7722, 'normal': 7714, 'studio': 7701, 'task': 7688, 'waster': 7671, 'stories': 7666, 'town': 7665, 'avoid': 7664, 'hang': 7663, 'vegas': 7644, 'improved': 7636, 'applications': 7634, 'garbage': 7633, 'written': 7633, 'lag': 7631, 'earlier': 7606, 'returns': 7604, 'viewing': 7600, 'sister': 7575, 'active': 7568, 'efile': 7539, 'fight': 7524, 'prior': 7523, 'appear': 7512, 'chose': 7505, 'unique': 7493, 'monsters': 7491, 'fill': 7485, 'bucks': 7484, 'funbr': 7483, 'awful': 7477, 'brother': 7471, 'cars': 7468, 'winning': 7455, 'improvement': 7447, 'sharp': 7445, '3d': 7429, '2015': 7426, 'volume': 7418, 'fall': 7412, '40': 7410, 'reminds': 7402, 'bar': 7379, 'speak': 7378, '2007': 7373, 'paced': 7371, 'tutorial': 7355, 'becomes': 7354, 'consider': 7337, 'changing': 7331, 'o': 7309, 'pics': 7295, 'final': 7288, 'bed': 7280, 'messages': 7273, 'personally': 7257, 'interactive': 7254, 'fit': 7252, 'charged': 7252, 'searching': 7235, 'contacted': 7231, 'fully': 7230, 'checking': 7228, 'grandkids': 7222, 'letter': 7209, 'besides': 7202, 'smoothly': 7199, 'cats': 7196, 'steps': 7191, 'till': 7191, 'dumb': 7182, 'filing': 7166, 'coloring': 7151, 'pace': 7145, 'advanced': 7135, 'layout': 7127, 'icon': 7126, 'omg': 7125, 'built': 7116, 'manual': 7097, 'auto': 7086, 'cell': 7084, 'opening': 7081, 'losing': 7071, 'period': 7050, 'reinstalled': 7014, 'showing': 6994, 'rated': 6990, 'feels': 6983, 'brings': 6982, 'tokens': 6981, 'events': 6976, 'loving': 6976, 'register': 6973, 'report': 6966, 'solid': 6961, 'effort': 6944, 'financial': 6923, 'kinds': 6919, 'listed': 6904, 'reliable': 6897, 'states': 6888, 'appbr': 6885, 'pack': 6865, 'particular': 6863, 'beware': 6831, 'roku': 6819, 'uninstalling': 6814, 'updating': 6814, 'warning': 6806, 'press': 6788, 'younger': 6773, 'hbo': 6766, 'boards': 6762, 'bet': 6752, '2010': 6750, 'considering': 6748, 'grand': 6746, 'source': 6742, 'b': 6741, 'areas': 6730, 'drop': 6704, 'notice': 6694, 'known': 6688, 'c': 6687, 'includes': 6684, 'purpose': 6674, 'income': 6671, 'ball': 6671, 'tries': 6667, 'excel': 6656, 'shouldnt': 6643, 'buggy': 6643, 'complex': 6641, 'hasnt': 6637, 'boot': 6630, 'knowledge': 6629, 'larger': 6617, 'login': 6615, 'sites': 6611, 'travel': 6609, 'spotify': 6603, 'upgrading': 6600, 'serious': 6596, 'chips': 6592, 'blue': 6584, 'round': 6583, 'despite': 6581, 'prices': 6576, 'alternative': 6561, 'knows': 6549, 'reports': 6541, 'buffering': 6537, 'agree': 6517, 'likely': 6509, 'solving': 6507, 'systems': 6506, 'rosetta': 6497, 'emails': 6495, 'dog': 6483, 'mail': 6482, 'late': 6480, 'class': 6477, 'die': 6465, 'adventure': 6464, 'stone': 6460, 'skill': 6459, 'minor': 6456, 'tt': 6443, 'bright': 6443, 'mention': 6434, 'mess': 6430, 'god': 6426, 'screens': 6421, 'recognize': 6417, 'escape': 6414, 'worthless': 6412, 'general': 6411, 'occupied': 6402, 'platform': 6396, 'thus': 6383, 'increase': 6379, 'lists': 6379, 'animal': 6375, 'unlimited': 6374, 'machines': 6371, 'finger': 6354, 'jigsaw': 6353, 'hdx': 6351, 'comment': 6346, 'activation': 6337, 'project': 6325, 'trip': 6313, 'timebr': 6281, 'photoshop': 6280, 'repeat': 6260, 'frustration': 6259, 'bill': 6253, 'spin': 6242, 'dislike': 6232, 'storyline': 6228, 'details': 6219, 'blocks': 6217, 'y': 6210, '2016': 6192, 'mad': 6185, 'shopping': 6181, 'self': 6176, 'neat': 6170, 'matching': 6168, 'parents': 6156, 'engaging': 6150, '13': 6148, 'patience': 6134, 'careful': 6130, 'reasonable': 6125, 'resources': 6114, 'g': 6113, 'epic': 6101, 'familiar': 6097, 'advertising': 6086, 'webroot': 6084, 'manage': 6081, 'girls': 6081, 'asks': 6079, 'virtual': 6053, 'comments': 6046, 'quests': 6041, 'weapons': 6034, 'lessons': 6032, 'froze': 6027, 'offline': 6018, '2011': 6009, 'wins': 6009, 'separate': 5996, 'collection': 5995, 'teach': 5987, 'categories': 5986, 'average': 5979, 'ram': 5969, 'curve': 5958, 'experienced': 5955, 'blast': 5944, 'spot': 5943, 'vocabulary': 5938, 'reach': 5936, 'shame': 5933, 'brand': 5928, 'switched': 5928, 'ton': 5923, 'l': 5913, 'reader': 5912, 'outlook': 5912, 'activate': 5905, 'repetitive': 5899, 'schedule': 5887, 'lines': 5887, 'double': 5884, 'common': 5883, 'training': 5869, 'limit': 5866, 'anytime': 5860, 'animation': 5844, 'saving': 5843, 'diamonds': 5842, 'numerous': 5833, 'join': 5819, 'regret': 5818, '0': 5816, 'research': 5808, 'helping': 5805, 'feed': 5803, 'restore': 5802, 'typing': 5801, 'management': 5798, 'ie': 5791, 'worry': 5791, 'willing': 5786, 'mouse': 5786, 'h': 5777, 'flash': 5775, 'names': 5775, 'occasionally': 5770, 'keys': 5766, '360': 5763, 'adult': 5754, 'exit': 5752, 'checked': 5752, 'gonna': 5729, 'premier': 5724, 'document': 5722, 'discovered': 5721, 'tho': 5711, 'saves': 5703, 'rip': 5694, 'usb': 5691, 'wonder': 5674, 'upload': 5669, 'decide': 5666, 'tab': 5638, 'mystery': 5634, 'complain': 5633, 'endless': 5632, 'zoom': 5628, 'red': 5622, 'aware': 5616, 'direct': 5615, 'viruses': 5612, 'begin': 5611, 'involved': 5602, 'ap': 5600, 'table': 5592, 'social': 5591, 'previously': 5585, '1st': 5581, 'mix': 5581, 'vs': 5579, 'echo': 5562, 'sitting': 5562, 'shipping': 5556, 'respond': 5555, 'tough': 5536, 'grandchildren': 5530, 'spelling': 5529, 'powerful': 5527, 'obvious': 5523, 'imagine': 5513, 'wide': 5508, 'glitchy': 5508, 'pull': 5507, 'printer': 5503, 'rules': 5502, 'folder': 5502, 'water': 5489, 'multiplayer': 5488, 'expecting': 5467, 'permissions': 5465, 'werent': 5457, 'pcs': 5455, 'sale': 5454, 'following': 5449, '45': 5437, 'potential': 5427, '60': 5419, 'tricky': 5410, 'battle': 5393, 'range': 5390, 'scores': 5387, 'calendar': 5381, 'air': 5379, 'blank': 5376, 'lame': 5376, 'attempt': 5376, 'supported': 5372, 'companies': 5370, 'folks': 5360, 'returned': 5359, 'country': 5355, 'handle': 5355, 'detailed': 5349, 'fault': 5341, 'parallels': 5341, 'closes': 5339, 'won': 5337, 'ps': 5332, 'usual': 5331, 'stated': 5330, 'non': 5324, 'signed': 5315, 'customize': 5304, 'thumbs': 5303, 'dark': 5296, 'eat': 5285, 'default': 5282, 'hardware': 5277, 'continues': 5274, 'party': 5267, 'fb': 5261, '24': 5260, 'lock': 5259, 'popular': 5223, 'hes': 5223, '2nd': 5222, 'study': 5210, 'knowing': 5196, 'walk': 5189, 'calls': 5177, 'appropriate': 5174, 'plain': 5170, 'subscribe': 5162, 'shot': 5158, 'released': 5149, 'passing': 5148, 'request': 5146, 'killing': 5144, 'improvements': 5141, 'grow': 5139, 'investment': 5127, 'suppose': 5125, 'greatest': 5119, '2012': 5118, 'theme': 5117, 'noise': 5100, 'advice': 5086, 'trips': 5081, '14': 5078, 'farm': 5078, 'moment': 5073, 'clue': 5067, 'hey': 5037, 'train': 5036, 'informative': 5035, 'arrived': 5031, 'silly': 5030, 'activities': 5024, 'boss': 5024, 'adjust': 5018, 'input': 5017, 'planning': 5011, 'payouts': 5010, 'realized': 5008, 'scroll': 5005, 'twist': 4996, 'goals': 4995, 'tree': 4993, 'detail': 4986, 'passes': 4972, 'scary': 4972, 'ultimate': 4970, 'members': 4963, 'radar': 4962, 'timed': 4955, '81': 4950, 'pbs': 4949, 'accept': 4943, 'convert': 4942, 'boy': 4941, 'fly': 4937, 'tiny': 4935, 'gaming': 4924, 'droid': 4918, 'student': 4917, 'hair': 4909, 'membership': 4907, 'elements': 4904, 'bird': 4900, 'manager': 4887, 'count': 4885, 'earned': 4875, 'fake': 4874, 'feeling': 4868, 'entered': 4867, 'burn': 4867, 'automatic': 4861, 'reboot': 4857, 'dead': 4852, 'fox': 4848, 'consuming': 4848, 'cooking': 4846, 'replace': 4846, '2017': 4842, 'individual': 4841, 'mebr': 4837, 'initial': 4835, 'stable': 4834, 'television': 4834, 'nicely': 4829, 'adorable': 4827, 'renew': 4826, 'cover': 4825, 'master': 4824, 'projects': 4823, 'luv': 4808, 'teaches': 4802, 'scene': 4795, 'focus': 4794, 'blah': 4784, 'effective': 4783, 'scam': 4778, 'clicking': 4765, 'explain': 4763, 'irs': 4762, 'closed': 4754, 'joke': 4749, 'wasting': 4741, 'broken': 4740, 'f': 4738, 'particularly': 4737, 'mentioned': 4725, 'visual': 4718, 'flawlessly': 4716, 'forth': 4711, 'guessing': 4708, 'positive': 4699, 'teaching': 4697, 'speaking': 4694, 'exact': 4692, 'pause': 4690, 'nbc': 4687, '3rd': 4686, 'spins': 4677, 'reviewers': 4674, 'balance': 4665, 'upset': 4662, 'malware': 4661, 'xbox': 4654, 'suck': 4653, 'instant': 4645, 'opens': 4635, 'outstanding': 4634, 'w': 4625, 'ui': 4619, 'poker': 4617, 'acronis': 4614, 'reasons': 4608, 'tutorials': 4602, 'attempts': 4596, 'drag': 4592, 'admit': 4586, 'chapter': 4586, 'member': 4581, 'living': 4578, 'stock': 4575, 'dictionary': 4569, 'clicked': 4568, 'figuring': 4567, 'graphic': 4563, 'fans': 4561, 'sweet': 4557, 'alright': 4545, 'locations': 4544, 'drives': 4538, 'opportunity': 4537, '90': 4536, 'titles': 4529, 'hundreds': 4527, 'traveling': 4524, 'themselves': 4524, 'fail': 4516, 'quest': 4510, 'randomly': 4509, 'act': 4507, 'zombies': 4497, 'sold': 4491, 'links': 4477, 'font': 4470, 'lesson': 4469, 'caused': 4462, 'youd': 4459, 'heart': 4458, 'push': 4454, 'college': 4449, 'solved': 4446, 'maker': 4445, 'throughout': 4442, 'paint': 4437, 'surprise': 4430, 'model': 4421, 'yo': 4419, 'ya': 4418, 'abc': 4414, 'loose': 4411, 'designs': 4410, 'missions': 4409, 'amazons': 4406, 'selections': 4401, 'sales': 4395, 'compare': 4390, 'honest': 4387, 'happening': 4386, 'worlds': 4383, 'pops': 4383, 'budget': 4382, 'thisbr': 4377, 'trash': 4373, 'french': 4371, 'minimum': 4371, 'shuts': 4370, 'guns': 4364, 'boys': 4359, 'goal': 4352, 'mindless': 4350, 'logos': 4346, 'expectations': 4344, 'min': 4339, 'rocks': 4338, 'everytime': 4336, 'kicks': 4333, 'dollar': 4332, 'grade': 4329, 'existing': 4323, 'disappointment': 4321, 'racing': 4317, 'wanna': 4315, 'downside': 4312, 'packs': 4311, 'logic': 4307, 'coin': 4305, 'fashion': 4305, 'throw': 4298, 'suddenly': 4294, 'organized': 4287, 'accounting': 4287, 'popup': 4286, 'newest': 4285, 'disney': 4280, 'editor': 4278, 'gps': 4276, 'seller': 4275, 'lags': 4270, 'tips': 4265, 'caught': 4262, 'youbr': 4255, 'slower': 4249, 'puts': 4247, 'payment': 4246, 'pocket': 4241, 'picked': 4240, 'cuz': 4240, 'delivery': 4239, 'slowly': 4238, 'reinstalling': 4229, 'shoot': 4228, 'explore': 4226, 'resolution': 4226, 'base': 4226, 'seasons': 4225, 'de': 4224, 'category': 4224, 'toes': 4216, 'hassle': 4214, 'recording': 4211, 'allowing': 4210, 'related': 4207, 'custom': 4203, 'monster': 4201, 'wheel': 4199, 'hallmark': 4194, 'nero': 4191, 'backgrounds': 4187, 'turning': 4183, 'gotta': 4180, 'yesterday': 4180, 'replay': 4176, 'doubt': 4168, 'waited': 4165, 'daughters': 4160, 'race': 4158, 'workout': 4157, 'transaction': 4156, '2000': 4154, '16': 4153, 'extras': 4152, 'basis': 4146, 'creator': 4143, 'max': 4143, 'shown': 4138, 'relatively': 4135, 'technology': 4134, 'entry': 4127, 'visit': 4125, '64': 4120, 'asleep': 4114, 'advantage': 4112, 'recognition': 4111, 'craft': 4110, 'dress': 4107, 'clothes': 4104, '200': 4101, 'thoroughly': 4098, 'profile': 4095, 'trend': 4094, 'typical': 4090, 'situation': 4085, 'direction': 4084, 'somehow': 4082, 'beginner': 4082, 'event': 4079, 'icons': 4077, 'completing': 4067, 'rounds': 4066, 'carry': 4062, 'firewall': 4060, 'pet': 4051, 'firetv': 4050, 'afford': 4046, 'recipe': 4041, 'activity': 4040, 'wake': 4030, 'flow': 4026, 'priced': 4023, 'ios': 4021, 'la': 4020, 'reccomend': 4019, 'andor': 4018, 'appstore': 4015, 'artist': 4012, 'bubble': 4005, 'incredible': 4002, 'linux': 4002, 'dish': 4001, 'navigation': 4001, 'loud': 3996, 'poorly': 3996, 'tracking': 3995, 'terms': 3994, 'row': 3979, 'unlocked': 3976, 'everybody': 3972, 'shes': 3971, 'dvds': 3965, 'method': 3964, 'accidentally': 3963, 'chess': 3960, 'material': 3960, 'pluto': 3954, 'patient': 3954, 'development': 3947, 'subway': 3945, 'kindles': 3941, 'fails': 3941, 'toddler': 3939, 'monitor': 3937, 'sending': 3937, 'capabilities': 3936, '2008': 3933, 'students': 3930, 'selected': 3929, 'fingers': 3929, 'piano': 3926, 'began': 3926, 'letting': 3921, 'spell': 3918, 'advertisements': 3918, 'sick': 3918, 'sons': 3916, 'external': 3914, 'entering': 3914, 'absolute': 3914, 'regularly': 3912, 'resource': 3910, 'originally': 3909, 'present': 3906, 'payroll': 3906, 'ipod': 3902, 'kick': 3902, 'generation': 3902, 'million': 3899, 'goodbr': 3896, 'boxes': 3877, 'locks': 3876, 'possibly': 3869, 'qb': 3869, 'depending': 3866, 'database': 3865, 'dad': 3857, 'popping': 3857, 'competition': 3856, 'cancelled': 3851, 'passed': 3842, 'yay': 3842, 'macbook': 3840, 'reload': 3840, 'lovers': 3840, 'pandora': 3823, 'beginners': 3821, 'reference': 3820, 'launch': 3820, 'logged': 3819, 'success': 3815, 'functional': 3815, 'hell': 3814, 'languages': 3814, 'filled': 3814, 'tickets': 3813, 'aspect': 3811, 'initially': 3809, '2003': 3808, 'easiest': 3803, 'resolved': 3801, 'selling': 3795, 'driving': 3790, '34': 3786, '23': 3786, 'renewal': 3783, 'tracks': 3783, 'magic': 3782, 'enjoyment': 3782, 'th': 3782, 'faotd': 3779, 'suggested': 3779, 'demand': 3777, 'gun': 3776, 'protect': 3773, 'roxio': 3767, 'prepared': 3767, 'inapp': 3759, 'cents': 3749, 'mainly': 3745, 'survival': 3744, 'sets': 3743, 'electronic': 3742, 'drivers': 3740, 'sd': 3739, 'explorer': 3739, 'green': 3738, 'wireless': 3738, 'charges': 3737, 'irritating': 3736, 'menus': 3732, 'promised': 3731, '2009': 3727, 'thembr': 3721, 'frozen': 3719, 'dell': 3716, 'logo': 3713, 'memories': 3705, 'lucky': 3703, 'ends': 3696, 'weve': 3694, 'understanding': 3693, 'ha': 3692, 'printing': 3688, 'suggestions': 3687, 'tube': 3687, 'loss': 3687, 'needing': 3686, 'broke': 3680, 'hp': 3679, 'processor': 3674, 'fresh': 3674, 'compatibility': 3670, '35': 3667, 'sony': 3666, 'clash': 3666, 'center': 3664, 'bc': 3663, 'modes': 3662, 'switching': 3655, 'fixes': 3647, 'core': 3639, 'cds': 3638, 'micro': 3636, 'heck': 3632, 'pets': 3623, 'breaks': 3620, 'cameras': 3619, 'clips': 3614, 'successfully': 3611, 'offering': 3607, 'community': 3607, 'shapes': 3605, 'genre': 3602, 'wall': 3601, 'intended': 3598, 'articles': 3598, 'replacement': 3593, 'gain': 3589, 'workbr': 3586, 'accuracy': 3584, 'elsewhere': 3579, 'folders': 3572, 'creators': 3567, 'football': 3567, 'twitter': 3563, 'field': 3557, 'quicker': 3556, 'garden': 3556, 'pleasant': 3549, 'leaving': 3541, 'resolve': 3537, 'capture': 3535, 'strong': 3526, 'crossword': 3526, 'instruction': 3526, 'penny': 3525, 'laugh': 3521, '18': 3521, 'clunky': 3519, 'gb': 3518, 'stays': 3512, 'land': 3510, 'public': 3510, 'soothing': 3504, 'chromecast': 3504, 'laggy': 3499, 'printed': 3498, 'dogs': 3494, 'door': 3493, 'doctors': 3491, 'softwarebr': 3485, 'calling': 3485, 'signal': 3478, 'sadly': 3475, 'reward': 3472, 'flight': 3469, 'posted': 3467, 'soooo': 3458, 'heres': 3457, 'anybody': 3456, 'itll': 3456, 'meant': 3455, 'playbr': 3445, 'responsive': 3436, 'usage': 3435, 'frequent': 3435, 'thousands': 3431, 'defense': 3429, 'net': 3426, 'closing': 3416, 'instantly': 3408, 'sooo': 3407, 'compete': 3400, 'effect': 3395, 'american': 3391, 'terrific': 3390, '500': 3385, 'thinks': 3383, 'awesomebr': 3382, 're': 3380, 'wise': 3380, '80': 3372, 'secure': 3370, 'balls': 3368, 'thatbr': 3366, 'vpn': 3363, 'btw': 3362, 'portion': 3361, 'theyve': 3361, 'refuse': 3358, 'removing': 3357, 'fruit': 3354, 'skin': 3351, 'simulator': 3349, 'dropped': 3348, 'dr': 3346, 'm': 3345, 'clever': 3340, 'es': 3338, 'sim': 3337, 'tower': 3337, 'satellite': 3328, 'covers': 3326, 'sharing': 3324, 'speech': 3323, 'skins': 3323, 'notifications': 3322, 'processing': 3322, 'demo': 3321, 'comfortable': 3319, 'operate': 3312, 'requirements': 3307, 'minimal': 3306, 'entries': 3305, 'themes': 3305, 'ebay': 3303, 'againbr': 3299, 'usa': 3299, 'king': 3297, 'charging': 3295, 'combination': 3294, 'exercises': 3292, 'forces': 3287, 'lovely': 3275, 'websites': 3269, 'clans': 3269, 'nope': 3266, 'magazine': 3266, 'dvr': 3264, 'emailed': 3264, 'claims': 3262, 'odd': 3261, 'forgot': 3261, 'confused': 3258, 'encountered': 3252, 'liking': 3250, 'attack': 3249, 'rare': 3246, 'buildings': 3244, 'explanation': 3244, 'codes': 3243, 'espn': 3240, 'benefit': 3239, 'beats': 3236, 'ending': 3231, 'basics': 3223, 'pool': 3223, 'spare': 3219, 'matches': 3218, 'meaning': 3214, 'horse': 3214, '1000': 3211, 'war': 3210, 'challenged': 3209, 'scratch': 3209, 'saga': 3208, 'casual': 3203, 'wind': 3200, 'pinnacle': 3198, 'tapping': 3198, 'bitdefender': 3197, 'teacher': 3197, 'prizes': 3195, 'cast': 3194, 'reporting': 3189, 'testing': 3186, 'park': 3184, 'competitive': 3183, 'lacking': 3180, 'aside': 3177, 'coverage': 3176, 'repeatedly': 3175, 'greatly': 3165, 'messed': 3164, 'rain': 3164, 'hoped': 3162, 'patterns': 3162, 'feedback': 3161, 'trick': 3156, 'engine': 3156, 'gamei': 3156, 'causes': 3155, 'hadnt': 3155, 'entirely': 3154, 'attempted': 3152, 'transferred': 3150, 'records': 3148, 'wellbr': 3144, 'strange': 3144, 'discover': 3142, 'leaves': 3141, 'fighting': 3141, 'efficient': 3141, 'anime': 3138, 'usebr': 3134, 'packages': 3131, 'misleading': 3122, 'capability': 3120, 'platforms': 3117, 'scans': 3115, 'nights': 3111, 'replaced': 3109, 'pic': 3109, 'versionbr': 3108, 'unwind': 3105, 'slide': 3101, 'loop': 3100, 'horses': 3100, 'mark': 3096, 'concerned': 3095, 'body': 3089, 'specifically': 3089, 'freaking': 3089, 'decision': 3087, 'symantec': 3086, 'connecting': 3086, 'straightforward': 3082, 'fonts': 3077, 'pls': 3061, 'unusable': 3060, 'servers': 3059, 'productbr': 3057, 'deserves': 3057, 'hot': 3053, 'formats': 3050, 'recomend': 3048, 'preview': 3046, 'death': 3046, 'boosters': 3046, 'shark': 3043, 'cross': 3037, 'ride': 3037, 'restarted': 3034, 'island': 3030, 'hated': 3029, 'delivered': 3020, 'amounts': 3019, 'nexus': 3019, 'proper': 3018, 'shooting': 3014, 'pad': 3013, 'suggestion': 3012, 'coordination': 3009, 'perform': 3008, 'breed': 3008, '70': 3006, 'lights': 3006, 'fees': 3006, 'consistently': 3003, 'solutions': 3001, 'risk': 3001, 'plane': 3000, 'creepy': 2999, 'modern': 2998, 'tedious': 2998, 'searches': 2998, 'spider': 2997, 'informed': 2997, 'owned': 2996, 'greatbr': 2996, 'anyways': 2995, 'amazed': 2992, 'edge': 2992, 'comics': 2992, 'v': 2987, 'spectrum': 2986, 'length': 2979, 'copies': 2979, 'finances': 2979, 'alert': 2978, 'animations': 2972, 'forecast': 2969, 'tobr': 2969, 'sudoku': 2967, 'k': 2965, 'according': 2963, 'wordperfect': 2963, 'calming': 2963, 'produce': 2962, '2006': 2958, 'superior': 2954, 'spyware': 2954, 'thrilled': 2954, 'reached': 2952, 'repair': 2944, 'styles': 2944, 'gifts': 2941, 'stores': 2938, 'quiet': 2935, 'express': 2934, 'tile': 2932, 'accountant': 2932, 'unit': 2931, 'tested': 2927, 'niece': 2927, 'reply': 2922, 'starz': 2919, 'expand': 2919, 'prepare': 2918, 'bells': 2917, 'expert': 2915, 'lately': 2911, 'kicked': 2910, 'tests': 2909, 'causing': 2906, 'meh': 2906, 'dream': 2904, 'serial': 2903, 'submit': 2900, 'fixing': 2897, 'flashlight': 2896, '299': 2894, 'evening': 2892, 'upbr': 2890, 'fits': 2890, 'networks': 2890, 'sucked': 2887, 'corner': 2886, 'doctor': 2885, 'rock': 2883, 'nuance': 2880, 'command': 2876, 'cord': 2867, 'hearing': 2866, 'inappropriate': 2866, 'swipe': 2863, 'que': 2859, 'cumbersome': 2858, 'smartphone': 2858, 'etcbr': 2857, 'beautifully': 2854, '199': 2854, 'environment': 2853, 'minions': 2853, 'tend': 2852, 'mario': 2851, 'shape': 2849, 'movement': 2848, 'returning': 2847, 'mother': 2845, 'ordering': 2840, 'sequel': 2840, 'native': 2839, 'pure': 2836, 'apply': 2834, 'appeared': 2833, 'becoming': 2832, 'cpu': 2830, 'satisfying': 2830, 'status': 2829, 'organize': 2824, 'finds': 2821, 'sonic': 2821, 'wondering': 2820, 'driver': 2817, 'discovery': 2814, 'deals': 2814, 'assistance': 2813, 'inventory': 2811, 'charm': 2810, 'houses': 2810, 'desk': 2804, 'collecting': 2803, 'permission': 2802, 'foreign': 2801, 'providing': 2799, 'ratings': 2798, 'bills': 2798, 'health': 2794, 'affordable': 2791, 'eg': 2790, 'claim': 2789, 'snow': 2789, 'export': 2786, 'p': 2784, 'creativity': 2779, 'nightmare': 2776, 'stopping': 2767, 'ripoff': 2766, 'installs': 2765, 'grab': 2764, 'died': 2759, 'walking': 2758, 'strongly': 2758, 'subject': 2756, '2005': 2756, 'human': 2755, 'distraction': 2754, 'sections': 2754, 'forcing': 2754, 'clip': 2753, 'hunt': 2753, '64bit': 2751, 'hundred': 2748, 'chances': 2747, 'fitbit': 2745, 'nature': 2745, 'limits': 2743, 'instance': 2742, 'crappy': 2742, 'topics': 2741, 'taxcut': 2741, 'stinks': 2740, 'truth': 2740, 'pin': 2740, 'playlists': 2739, 'mins': 2739, 'cw': 2738, 'popups': 2736, 'significant': 2736, 'rpg': 2734, 'spam': 2733, 'placed': 2733, 'exception': 2729, 'playback': 2728, 'scrabble': 2725, 'beta': 2725, 'registration': 2722, 'mistakes': 2721, 'commands': 2721, 'plants': 2720, 'complaining': 2718, 'registry': 2714, 'nephew': 2708, 'checks': 2704, 'htc': 2698, 'fabulous': 2697, 'pros': 2694, 'deep': 2694, 'overly': 2691, 'classes': 2691, 'drawback': 2691, 'sometime': 2690, 'gamer': 2689, 'deductions': 2688, 'aspects': 2686, 'traditional': 2686, 'requiring': 2684, 'wild': 2684, 'blocked': 2683, 'regarding': 2676, 'regardless': 2675, 'successful': 2673, 'breeze': 2670, 'templates': 2669, 'allbr': 2669, 'reported': 2667, 'banking': 2666, 'exist': 2666, 'dot': 2666, 'shutting': 2661, 'disable': 2660, 'plug': 2658, 'arcade': 2658, 'gamesbr': 2657, 'passwords': 2656, 'gen': 2655, 'accessible': 2654, 'lacks': 2653, 'rush': 2653, 'boo': 2651, 'fell': 2649, 'phrases': 2648, 'sources': 2648, 'olds': 2647, 'cleaning': 2646, 'ignore': 2645, 'chrome': 2645, 'holds': 2644, 'disabled': 2644, 'german': 2642, 'notification': 2642, 'cutting': 2642, 'advertisement': 2641, 'ai': 2640, '300': 2636, '2004': 2631, 'joy': 2631, 'pointless': 2631, 'marketing': 2631, 'accomplish': 2630, 'stage': 2630, 'soo': 2630, 'privacy': 2628, '32': 2625, 'skype': 2625, 'entertain': 2619, 'square': 2618, 'continually': 2616, 'twenty': 2615, 'rely': 2615, 'expenses': 2615, 'broadcast': 2615, 'interact': 2613, 'explained': 2610, 'artists': 2609, 'contains': 2608, 'bluetooth': 2605, 'managed': 2605, 'playlist': 2605, 'muy': 2603, 'protected': 2601, 'grammar': 2595, 'whoever': 2594, 'presented': 2593, 'interaction': 2593, 'restarting': 2586, 'contacts': 2585, 'holiday': 2584, 'patch': 2584, 'cartoons': 2581, 'pricey': 2578, 'sudden': 2578, 'reviewer': 2577, 'sooner': 2577, 'zombie': 2577, 'kik': 2577, 'ghost': 2576, 'approach': 2575, 'conversion': 2574, 'wherever': 2574, 'tables': 2573, 'annoyed': 2572, 'xfinity': 2570, 'convenience': 2568, 'usable': 2567, 'kitchen': 2567, 'comprehensive': 2564, 'reasonably': 2561, 'cook': 2558, 'router': 2558, 'mood': 2556, 'burning': 2555, 'imac': 2554, 'tune': 2553, 'ship': 2552, 'programbr': 2551, 'disappear': 2550, 'flying': 2550, 'startup': 2548, 'freebr': 2544, 'occasional': 2542, 'blood': 2537, 'growing': 2536, '499': 2536, 'whistles': 2535, '17': 2534, 'scanning': 2534, 'cons': 2530, 'differences': 2530, 'roll': 2527, 'assume': 2526, 'port': 2526, 'circle': 2525, 'japanese': 2523, 'imagination': 2522, '2020': 2521, 'scanner': 2519, 'microphone': 2518, 'quot': 2515, 'supports': 2513, 'toobr': 2510, 'equipment': 2509, 'tip': 2506, 'comparison': 2503, 'lo': 2503, 'weekly': 2500, 'plot': 2498, 'warned': 2496, 'hearts': 2496, 'forums': 2493, 'locate': 2492, 'heavy': 2491, 'con': 2491, 'essentially': 2488, 'rotate': 2488, 'dealing': 2487, 'lover': 2487, 'engaged': 2484, 'unnecessary': 2482, 'outbr': 2479, '4k': 2479, 'utility': 2478, 'outdated': 2477, 'introduced': 2477, 'hog': 2475, 'appointments': 2475, '89': 2474, 'dinosaurs': 2474, 'recorded': 2472, 'speaker': 2472, 'intrusive': 2470, 'fancy': 2468, 'saver': 2467, 'logging': 2466, 'internal': 2465, 'favor': 2464, 'backups': 2463, 'searched': 2462, 'ho': 2462, 'peace': 2460, 'displayed': 2460, 'depth': 2459, 'itunes': 2458, 'position': 2456, 'laptops': 2454, 'whatsoever': 2453, 'summer': 2452, 'choosing': 2448, 'homework': 2446, 'lifetime': 2442, 'weekend': 2439, 'street': 2438, 'consumer': 2438, 'pressure': 2437, 'ingame': 2432, '90s': 2431, 'hopes': 2430, 'receiving': 2430, 'unhappy': 2429, 'repeated': 2428, 'surfers': 2428, 'peoples': 2424, 'dash': 2423, 'forum': 2422, 'advise': 2418, 'frame': 2416, 'vacation': 2415, 'moneybr': 2415, 'powerups': 2414, 'disappeared': 2412, 'onebr': 2406, 'sends': 2405, 'ebooks': 2405, 'loyal': 2404, 'impressive': 2404, 'fluenz': 2402, 'prompt': 2401, 'posts': 2398, 'bars': 2397, 'requests': 2394, 'killed': 2393, 'promise': 2392, 'speakers': 2392, 'pleasure': 2391, 'nfl': 2391, 'flaws': 2388, 'buyer': 2386, 'picking': 2386, 'flip': 2385, 'bubbles': 2384, 'wolf': 2383, 'filed': 2382, 'hitting': 2379, 'developed': 2379, 'j': 2378, 'expired': 2376, 'grew': 2376, 'holding': 2375, 'mental': 2375, 'session': 2374, 'incorrect': 2374, 'deck': 2371, 'horror': 2370, 'moments': 2361, 'taught': 2361, 'virtually': 2361, 'landscape': 2361, 'cheat': 2360, 'primary': 2359, 'rental': 2359, 'operation': 2357, 'audible': 2357, 'visually': 2356, 'communicate': 2354, 'obsessed': 2354, 'activated': 2354, 'failure': 2354, 'afraid': 2353, 'actions': 2353, 'kills': 2352, 'floor': 2351, 'physical': 2348, 'fed': 2345, 'hilarious': 2345, 'damn': 2345, 'keeper': 2345, 'rep': 2342, 'reads': 2341, 'path': 2341, 'simplicity': 2337, 'browsing': 2337, 'policy': 2336, 'covered': 2329, 'cache': 2326, 'userfriendly': 2326, 'sorts': 2326, 'reminders': 2324, 'mixed': 2323, 'calm': 2323, 'determine': 2321, 'cartoon': 2320, 'route': 2320, 'paste': 2320, 'scared': 2319, 'paramount': 2317, 'restaurant': 2316, 'drawings': 2316, 'bluray': 2314, 'client': 2314, 'purposes': 2313, 'pleasantly': 2313, 'morebr': 2310, 'brilliant': 2310, 'earning': 2309, 'tvs': 2309, 'corrupted': 2308, 'furniture': 2307, 'scrolling': 2306, 'sight': 2304, 'birthday': 2300, '2019': 2297, 'refused': 2296, 'guitar': 2296, 'annual': 2293, 'attempting': 2293, 'yrs': 2293, 'decorate': 2290, 'cup': 2289, 'novice': 2288, 'artwork': 2286, 'dozen': 2284, 'reviewing': 2284, 'displays': 2283, 'screwed': 2283, 'imported': 2281, 'critical': 2281, 'investments': 2280, 'idk': 2277, 'battles': 2277, 'develop': 2276, 'buffers': 2275, 'makers': 2274, 'ground': 2270, 'wished': 2270, 'amazoncom': 2269, 'tournament': 2264, 'alerts': 2264, 'winner': 2264, 'canceled': 2264, 'cuts': 2263, 'zone': 2263, 'discount': 2261, 'bowling': 2261, 'nowbr': 2260, 'recover': 2259, 'reality': 2259, 'controller': 2259, 'streams': 2258, 'undo': 2257, 'church': 2257, 'kicking': 2255, 'lead': 2254, 'ruined': 2254, 'flaw': 2250, 'fingertips': 2249, 'sooooo': 2247, 'greedy': 2245, 'el': 2245, 'physics': 2244, 'property': 2240, 'essential': 2240, 'album': 2240, 'attached': 2239, 'recovery': 2238, 'parent': 2238, 'bummer': 2238, 'thorough': 2234, 'slows': 2232, 'desired': 2231, '4th': 2231, '2018': 2230, 'improving': 2229, 'term': 2229, 'toy': 2229, 'excelente': 2227, 'bs': 2224, 'grocery': 2222, 'registered': 2222, 'requested': 2220, 'achieve': 2220, 'neighbors': 2219, '365': 2219, 'weight': 2216, 'blow': 2216, 'en': 2216, 'plans': 2215, 'teams': 2215, 'presentation': 2214, 'partition': 2208, 'toddlers': 2207, 'decorating': 2204, 'interruptions': 2201, 'quotes': 2201, 'ugh': 2199, 'comcast': 2197, 'factory': 2196, 'village': 2196, 'browse': 2195, 'views': 2193, 'stressful': 2192, 'asap': 2190, 'blackjack': 2189, 'simpsons': 2186, 'awesomeness': 2186, 'named': 2185, 'providers': 2185, 'vhs': 2181, 'staff': 2180, 'parental': 2179, 'private': 2178, 'stayed': 2177, 'chapters': 2177, 'subscribed': 2172, 'models': 2171, 'calculations': 2169, 'delay': 2164, 'timely': 2164, 'avail': 2164, 'comic': 2163, 'brush': 2162, 'majority': 2162, 'awkward': 2161, 'taste': 2161, 'boost': 2160, 'selecting': 2159, 'pricing': 2158, 'panda': 2156, 'iti': 2155, 'signing': 2154, 'documentation': 2153, 'preparation': 2153, 'stumped': 2153, 'ice': 2152, 'avg': 2151, 'bomb': 2148, 'sleeping': 2147, 'ticket': 2145, 'na': 2145, 'manner': 2144, 'inexpensive': 2144, 'addiction': 2144, 'luckily': 2143, 'popped': 2139, 'stages': 2139, 'valuable': 2135, 'intriguing': 2134, 'earth': 2131, 'singing': 2131, 'cleared': 2129, 'america': 2128, 'hangs': 2127, 'dobr': 2126, 'childs': 2126, 'capable': 2123, 'passer': 2123, 'filling': 2121, 'nobody': 2120, 'resume': 2119, 'jumping': 2118, 'cleaner': 2116, 'shots': 2116, 'banks': 2116, 'cities': 2115, 'tabs': 2115, 'releases': 2111, 'macs': 2109, 'hurt': 2107, 'halloween': 2107, 'customizable': 2107, 'amusing': 2106, 'countries': 2105, 'motion': 2104, 'rich': 2103, 'vendor': 2102, 'fantasy': 2102, 'microsofts': 2101, 'relaxation': 2100, 'teaser': 2099, 'moon': 2098, 'fires': 2097, 'science': 2097, 'transition': 2095, 'prevent': 2095, 'designer': 2094, 'indeed': 2094, 'weak': 2094, 'converted': 2092, 'simpler': 2092, 'meets': 2091, 'filters': 2090, 'antenna': 2090, 'hung': 2089, 'chinese': 2088, 'designing': 2087, 'tournaments': 2087, 'materials': 2087, 'spinning': 2084, 'seamless': 2082, 'beach': 2082, 'hook': 2082, 'drops': 2081, 'eating': 2078, 'clone': 2076, 'wonderfully': 2075, 'scoring': 2075, 'colored': 2075, 'flat': 2073, 'seamlessly': 2072, 'generous': 2069, 'mp3': 2069, 'clients': 2069, 'dos': 2068, 'describe': 2065, 'updatebr': 2064, 'lie': 2063, 'continuously': 2061, 'answered': 2061, 'british': 2061, 'stats': 2059, 'exchange': 2059, 'recommendation': 2059, 'trivia': 2058, 'robot': 2058, 'retired': 2057, 'isbr': 2056, 'boredom': 2055, 'butt': 2055, 'darn': 2054, 'creates': 2050, 'sky': 2050, 'abilities': 2049, 'stored': 2047, 'hits': 2047, 'slowed': 2045, 'pronunciation': 2045, 'suit': 2043, 'increased': 2041, 'target': 2040, 'distracting': 2040, 'suspect': 2036, 'arrow': 2034, 'owner': 2034, 'onbr': 2033, 'casinos': 2032, 'lg': 2031, 'customization': 2030, 'aggravating': 2029, 'club': 2029, 'tank': 2029, 'shuffle': 2027, 'wallpaper': 2027, 'increases': 2026, 'cousin': 2026, 'grandsons': 2024, 'anti': 2024, 'leopard': 2024, 'fortune': 2023, 'units': 2022, 'disks': 2021, 'faces': 2020, 'opportunities': 2020, 'fav': 2020, 'streets': 2018, 'staying': 2017, 'guarantee': 2017, 'apart': 2017, 'currency': 2017, 'worried': 2016, 'timing': 2016, 'computerbr': 2014, 'powerpoint': 2014, 'trade': 2014, 'vary': 2009, 'yea': 2009, 'portable': 2007, 'wars': 2007, 'savvy': 2005, 'theyll': 2001, 'damage': 1999, 'pays': 1998, 'cookie': 1997, 'wizard': 1997, 'hole': 1997, 'sling': 1997, 'encourage': 1996, 'upper': 1993, 'gem': 1993, '4g': 1991, 'corrected': 1990, 'preferred': 1989, 'rescue': 1988, 'conversation': 1987, 'combinations': 1986, 'discs': 1985, 'medical': 1981, 'mission': 1980, 'robots': 1980, 'intel': 1977, 'sentence': 1976, 'logical': 1976, 'march': 1976, 'happier': 1975, 'coolbr': 1975, 'problembr': 1974, 'empty': 1973, 'accepted': 1973, '95': 1972, 'headache': 1972, 'efiling': 1970, 'difficulties': 1969, 'hurry': 1968, 'starsbr': 1967, 'noted': 1965, 'films': 1965, 'responding': 1962, 'playable': 1961, 'combined': 1960, 'importing': 1958, 'integration': 1956, 'extensive': 1955, 'considered': 1954, 'focused': 1950, 'structure': 1948, 'win7': 1947, 'dev': 1947, 'surface': 1946, 'subscriptions': 1946, 'flappy': 1945, 'italian': 1943, 'cake': 1942, 'obtain': 1942, 'rendering': 1941, 'av': 1940, 'solitare': 1939, 'savings': 1938, 'lazy': 1938, 'orders': 1937, 'supposedly': 1936, 'thoughts': 1935, 'progressively': 1933, 'sizes': 1932, 'haha': 1930, 'consistent': 1930, 'expense': 1930, 'benefits': 1930, 'minion': 1930, 'devs': 1930, 'layouts': 1929, 'tricks': 1928, '22': 1928, 'connections': 1928, 'falling': 1927, 'yall': 1927, '80s': 1924, 'flawless': 1923, 'bombs': 1923, 'creation': 1919, 'shooter': 1919, 'condition': 1917, 'adequate': 1917, 'bundle': 1917, 'valid': 1916, 'yearly': 1916, 'appreciated': 1916, 'pixel': 1916, 'led': 1915, 'wouldve': 1914, 'listing': 1912, '98': 1912, 'carefully': 1911, 'glass': 1911, 'clicks': 1910, '247': 1910, 'somebody': 1910, 'identify': 1910, 'breaking': 1909, 'prompts': 1909, 'intuits': 1909, 'sensitive': 1908, 'crossy': 1908, 'buck': 1907, 'alike': 1907, 'mb': 1907, 'baseball': 1906, 'senior': 1906, 'planes': 1903, 'ppl': 1901, 'goodness': 1899, 'acceptable': 1899, 'lasted': 1899, 'supporting': 1899, 'pattern': 1897, 'secret': 1897, 'overdrive': 1897, 'terribly': 1896, 'retail': 1895, 'ugly': 1895, 'jewels': 1894, 'brothers': 1894, 'situations': 1893, 'ridiculously': 1892, 'proceed': 1891, 'refreshing': 1891, 'mechanics': 1891, 'childhood': 1891, 'national': 1889, '21': 1886, 'translation': 1885, 'confidence': 1884, 'costly': 1884, 'quiz': 1883, 'golf': 1883, 'achievements': 1883, 'pen': 1882, 'stating': 1882, 'outs': 1880, 'todays': 1880, 'buffer': 1878, 'obscure': 1877, 'spreadsheet': 1875, 'unknown': 1873, 'eggs': 1873, 'april': 1873, 'extended': 1873, 'beating': 1873, 'possibilities': 1872, 'production': 1871, 'syncing': 1870, 'refresh': 1870, 'appointment': 1869, 'hide': 1868, 'dice': 1868, 'knock': 1868, 'maintain': 1867, 'rides': 1867, 'avid': 1866, 'ninja': 1866, 'everbr': 1865, 'erase': 1864, 'opponents': 1864, 'solo': 1862, 'repeating': 1862, 'fewer': 1861, 'newspaper': 1857, 'refuses': 1857, 'drain': 1856, 'trains': 1856, '1010': 1855, 'reviewed': 1854, 'definition': 1854, 'buddy': 1854, 'performs': 1852, 'excitement': 1851, '34free34': 1851, 'makeup': 1851, 'lite': 1850, 'opponent': 1848, 'whos': 1847, 'wifes': 1845, 'insert': 1844, 'seek': 1844, 'hrs': 1844, 'formatting': 1843, 'medium': 1842}\n",
      "3000\n",
      "avg words per review: 26.328981445565237\n"
     ]
    }
   ],
   "source": [
    "# fmt: off\n",
    "ignored_words = [\n",
    "    # articles\n",
    "    \"a\", \"an\", \"the\",\n",
    "    # pronouns\n",
    "    \"i\", \"you\", \"he\", \"she\", \"it\", \"we\", \"they\", \"me\", \"him\", \"her\", \"us\", \"them\", \"my\", \"your\", \"his\", \"her\", \"its\", \"our\", \"their\",\"his\",\"her\",\"its\",\"our\",\"their\",\n",
    "    # prepositions\n",
    "    \"at\", \"in\", \"on\", \"by\", \"for\", \"with\", \"without\", \"to\", \"from\", \"of\", \"about\", \"under\", \"over\", \"through\", \"between\", \"among\", \"during\", \"before\", \"after\", \"above\", \"below\", \"up\", \"down\", \"out\", \"off\", \"into\", \"onto\", \"upon\", \"within\", \"across\", \"along\", \"around\", \"behind\", \"beside\", \"beyond\", \"inside\", \"outside\", \"toward\", \"towards\", \"underneath\", \"against\", \"beneath\", \"near\", \"next\", \"past\", \"since\", \"until\", \"via\",\n",
    "    # conjunctions\n",
    "    \"and\", \"or\", \"but\", \"so\", \"yet\", \"nor\", \"as\", \"if\", \"when\", \"while\", \"because\", \"although\", \"though\", \"unless\", \"whereas\", \"however\", \"therefore\", \"moreover\", \"furthermore\", \"nevertheless\", \"meanwhile\",\n",
    "    # common verbs\n",
    "    \"am\", \"is\", \"are\", \"was\", \"were\", \"be\", \"been\", \"being\", \"have\", \"has\", \"had\", \"do\", \"does\", \"did\", \"will\", \"would\", \"could\", \"should\", \"can\", \"may\", \"might\", \"must\", \"shall\", \"get\", \"got\", \"go\", \"went\", \"come\", \"came\", \"see\", \"saw\", \"know\", \"knew\", \"think\", \"thought\", \"say\", \"said\", \"tell\", \"told\", \"make\", \"made\", \"take\", \"took\", \"give\", \"gave\", \"find\", \"found\", \"use\", \"used\", \"work\", \"worked\", \"look\", \"looked\", \"seem\", \"seemed\", \"feel\", \"felt\", \"try\", \"tried\", \"leave\", \"left\", \"put\", \"set\", \"keep\", \"kept\", \"let\", \"run\", \"ran\", \"move\", \"moved\", \"live\", \"lived\", \"bring\", \"brought\", \"happen\", \"happened\", \"write\", \"wrote\", \"sit\", \"sat\", \"stand\", \"stood\", \"lose\", \"lost\", \"pay\", \"paid\", \"meet\", \"met\", \"include\", \"included\", \"continue\", \"continued\", \"turn\", \"turned\", \"follow\", \"followed\", \"want\", \"wanted\", \"need\", \"needed\", \"like\", \"liked\", \"help\", \"helped\", \"talk\", \"talked\", \"become\", \"became\", \"show\", \"showed\", \"hear\", \"heard\", \"play\", \"played\", \"run\", \"ran\", \"move\", \"moved\", \"live\", \"lived\", \"believe\", \"believed\", \"hold\", \"held\", \"bring\", \"brought\", \"happen\", \"happened\", \"write\", \"wrote\", \"provide\", \"provided\", \"sit\", \"sat\", \"stand\", \"stood\", \"lose\", \"lost\", \"pay\", \"paid\", \"meet\", \"met\", \"include\", \"included\",\n",
    "    # adverbs\n",
    "    \"very\", \"really\", \"quite\", \"just\", \"only\", \"also\", \"too\", \"so\", \"more\", \"most\", \"much\", \"many\", \"well\", \"good\", \"better\", \"best\", \"bad\", \"worse\", \"worst\", \"little\", \"less\", \"least\", \"big\", \"bigger\", \"biggest\", \"small\", \"smaller\", \"smallest\", \"long\", \"longer\", \"longest\", \"short\", \"shorter\", \"shortest\", \"high\", \"higher\", \"highest\", \"low\", \"lower\", \"lowest\", \"first\", \"last\", \"next\", \"previous\", \"new\", \"old\", \"young\", \"great\", \"right\", \"wrong\", \"true\", \"false\", \"sure\", \"probably\", \"maybe\", \"perhaps\", \"definitely\", \"certainly\", \"absolutely\", \"completely\", \"totally\", \"exactly\", \"almost\", \"nearly\", \"hardly\", \"barely\", \"quite\", \"rather\", \"pretty\", \"fairly\", \"somewhat\", \"slightly\", \"extremely\", \"incredibly\", \"amazingly\", \"surprisingly\", \"unfortunately\", \"fortunately\", \"obviously\", \"clearly\", \"apparently\", \"generally\", \"usually\", \"normally\", \"typically\", \"often\", \"sometimes\", \"rarely\", \"never\", \"always\", \"already\", \"still\", \"yet\", \"soon\", \"now\", \"then\", \"here\", \"there\", \"where\", \"everywhere\", \"anywhere\", \"somewhere\", \"nowhere\", \"how\", \"why\", \"what\", \"when\", \"who\", \"which\", \"whose\", \"whom\",\n",
    "    # numbers and quantities\n",
    "    \"one\", \"two\", \"three\", \"four\", \"five\", \"six\", \"seven\", \"eight\", \"nine\", \"ten\", \"first\", \"second\", \"third\", \"another\", \"other\", \"others\", \"some\", \"any\", \"all\", \"each\", \"every\", \"both\", \"either\", \"neither\", \"none\", \"few\", \"several\", \"many\", \"most\", \"much\", \"little\", \"less\", \"more\", \"enough\", \"plenty\",\n",
    "    # misc common words\n",
    "    \"thing\", \"things\", \"something\", \"anything\", \"nothing\", \"everything\", \"someone\", \"anyone\", \"everyone\", \"no\", \"yes\", \"ok\", \"okay\", \"please\", \"thanks\", \"thank\", \"welcome\", \"hello\", \"hi\", \"bye\", \"goodbye\", \"sorry\", \"excuse\", \"pardon\", \"way\", \"ways\", \"time\", \"times\", \"day\", \"days\", \"year\", \"years\", \"place\", \"places\", \"people\", \"person\", \"man\", \"woman\", \"child\", \"children\", \"life\", \"world\", \"home\", \"house\", \"work\", \"job\", \"money\", \"business\", \"company\", \"part\", \"parts\", \"number\", \"numbers\", \"group\", \"groups\", \"problem\", \"problems\", \"question\", \"questions\", \"answer\", \"answers\", \"fact\", \"facts\", \"example\", \"examples\", \"case\", \"cases\", \"point\", \"points\", \"idea\", \"ideas\", \"information\", \"data\", \"result\", \"results\", \"change\", \"changes\", \"end\", \"beginning\", \"start\", \"finish\", \"side\", \"sides\", \"hand\", \"hands\", \"eye\", \"eyes\", \"head\", \"face\", \"back\", \"front\", \"top\", \"bottom\", \"left\", \"right\", \"inside\", \"outside\", \"important\", \"different\", \"same\", \"such\", \"even\", \"still\", \"however\", \"though\", \"although\", \"since\", \"while\", \"during\", \"before\", \"after\", \"until\", \"unless\", \"because\", \"if\", \"whether\", \"that\", \"this\", \"these\", \"those\", \"there\", \"here\", \"where\", \"when\", \"how\", \"why\", \"what\", \"who\", \"which\", \"whose\", \"whom\",\n",
    "    # common contractions\n",
    "    \"ive\", \"im\",\n",
    "    # parsing-specific\n",
    "    \"\", \"br\"\n",
    "]\n",
    "# fmt: on\n",
    "\n",
    "bag_of_words = {}\n",
    "\n",
    "for observation in X:\n",
    "    add_to_bag(observation)\n",
    "\n",
    "print(len(bag_of_words))\n",
    "\n",
    "\n",
    "bag_of_words = {\n",
    "    k: v for k, v in bag_of_words.items() if v > 10 and k not in ignored_words\n",
    "}\n",
    "print(len(bag_of_words))\n",
    "bag_size = 3000\n",
    "bag_of_words = dict(\n",
    "    sorted(bag_of_words.items(), key=lambda x: x[1], reverse=True)[:bag_size]\n",
    ")\n",
    "\n",
    "\n",
    "print(bag_of_words)\n",
    "print(len(bag_of_words))\n",
    "print(\"avg words per review:\", total_words / len(X))"
   ]
  },
  {
   "cell_type": "code",
   "execution_count": null,
   "id": "46450363",
   "metadata": {},
   "outputs": [],
   "source": [
    "def vectorize(text: str, word_to_idx: dict[str, int]) -> torch.Tensor:\n",
    "    words = split_text(text)\n",
    "\n",
    "    vector = [0] * len(word_to_idx)\n",
    "\n",
    "    for word in words:\n",
    "        idx = word_to_idx.get(word)\n",
    "        if idx is not None:\n",
    "            vector[idx] += 1\n",
    "\n",
    "    return torch.tensor(vector, dtype=torch.float32)\n",
    "\n",
    "\n",
    "def vectorize_parallel(\n",
    "    texts: list[str], word_to_idx: dict[str, int], n_jobs: int = 4\n",
    ") -> torch.Tensor:\n",
    "    vectors = Parallel(n_jobs=n_jobs)(\n",
    "        delayed(vectorize)(text, word_to_idx) for text in texts\n",
    "    )\n",
    "    return torch.stack(vectors).to(mps)\n",
    "\n",
    "\n",
    "def preprocess(X: list[str]) -> torch.Tensor:\n",
    "    word_to_idx = {word: idx for idx, word in enumerate(bag_of_words.keys())}\n",
    "\n",
    "    return vectorize_parallel(X, word_to_idx)\n",
    "\n",
    "\n",
    "X_processed = preprocess(X)\n",
    "# memory\n",
    "print(X_processed.element_size() * X_processed.numel() / 1024**2, \"MB\")\n"
   ]
  },
  {
   "cell_type": "code",
   "execution_count": null,
   "id": "cd54abd1",
   "metadata": {},
   "outputs": [],
   "source": [
    "print(len(bag_of_words))\n",
    "print(len(X_processed))\n",
    "\n",
    "LAYERS = 124, 42, 14, 6\n",
    "# LAYER_1, LAYER_2 = 75, 5  # original\n",
    "LAYER_1, LAYER_2, LAYER_3, LAYER_4 = LAYERS\n",
    "\n",
    "bag_size = len(bag_of_words)\n",
    "\n",
    "print(\"num params L1:\", len(bag_of_words) * LAYER_1 + LAYER_1)\n",
    "num_params = (\n",
    "    sum(LAYERS[i - 1] * LAYERS[i] + LAYERS[i] for i in range(1, len(LAYERS)))\n",
    "    + bag_size * LAYERS[0]\n",
    "    + LAYERS[0]\n",
    "    + LAYERS[-1]\n",
    "    + 1\n",
    ")\n",
    "print(\"num params:\", num_params)"
   ]
  },
  {
   "cell_type": "code",
   "execution_count": null,
   "id": "c98b7f7a",
   "metadata": {},
   "outputs": [],
   "source": [
    "class SparseLinear(nn.Module):\n",
    "    def __init__(self, in_features, out_features, bias=True, device=None, dtype=None):\n",
    "        \"\"\"Source copied from torch.nn.Linear\"\"\"\n",
    "        factory_kwargs = {\"device\": device, \"dtype\": dtype}\n",
    "        super().__init__()\n",
    "        self.in_features = in_features\n",
    "        self.out_features = out_features\n",
    "        self.weight = nn.Parameter(\n",
    "            torch.empty((out_features, in_features), **factory_kwargs)\n",
    "        )\n",
    "        if bias:\n",
    "            self.bias = nn.Parameter(torch.empty(out_features, **factory_kwargs))\n",
    "        else:\n",
    "            self.register_parameter(\"bias\", None)\n",
    "        self.reset_parameters()\n",
    "\n",
    "    def forward(self, x):\n",
    "        x_sparse = x.coalesce()  # ensures unique indices\n",
    "        out = torch.sparse.mm(\n",
    "            x_sparse,  # (B × in) · (in × out)ᵀ\n",
    "            self.weight.t(),\n",
    "        )\n",
    "        if self.bias is not None:\n",
    "            out = out + self.bias\n",
    "        return out"
   ]
  },
  {
   "cell_type": "code",
   "execution_count": null,
   "id": "ec154c12",
   "metadata": {},
   "outputs": [],
   "source": [
    "CONFIG = {\n",
    "    \"PARAMS\": num_params,\n",
    "    \"BATCHES\": 1000,\n",
    "    \"EPOCHS\": 10,\n",
    "    \"SAMPLES\": int(n_samples * 0.8),\n",
    "    \"LR\": 0.003,\n",
    "    \"BAG_SIZE\": bag_size,\n",
    "}\n",
    "if False:  # test runs\n",
    "    CONFIG = {\n",
    "        \"PARAMS\": num_params,\n",
    "        \"BATCHES\": 1000,\n",
    "        \"EPOCHS\": 10,\n",
    "        \"SAMPLES\": int(n_samples * 0.8),\n",
    "        \"LR\": 0.003,\n",
    "        \"BAG_SIZE\": bag_size,\n",
    "    }\n",
    "\n",
    "\n",
    "print(CONFIG)\n",
    "\n",
    "\n",
    "def run_nn():\n",
    "    # optimal params = 10% of 80000 = 8000\n",
    "    model = nn.Sequential(\n",
    "        nn.Linear(len(bag_of_words), LAYER_1),\n",
    "        nn.ReLU(),\n",
    "        nn.Linear(LAYER_1, LAYER_2),\n",
    "        nn.ReLU(),\n",
    "        nn.Linear(LAYER_2, LAYER_3),\n",
    "        nn.ReLU(),\n",
    "        nn.Linear(LAYER_3, LAYER_4),\n",
    "        nn.ReLU(),\n",
    "        nn.Linear(LAYER_4, 1),\n",
    "        # nn.Sigmoid(),  # using logits loss\n",
    "    ).to(mps)\n",
    "    model = torch.compile(model)\n",
    "\n",
    "    # TODO: clear model if instantiating once\n",
    "\n",
    "    print(model)\n",
    "\n",
    "    loss_fn = nn.BCEWithLogitsLoss()\n",
    "    optimizer = optim.Adam(model.parameters(), lr=CONFIG[\"LR\"])\n",
    "\n",
    "    n_samples = CONFIG[\"SAMPLES\"]\n",
    "    X_train, X_test = X_processed[:n_samples], X_processed[n_samples:]\n",
    "    y_train, y_test = y[:n_samples].float().to(mps), y[n_samples:].float().to(mps)\n",
    "\n",
    "    dataset = TensorDataset(X_train, y_train)\n",
    "    dataloader = DataLoader(\n",
    "        dataset, batch_size=len(X_train) // CONFIG[\"BATCHES\"], shuffle=True\n",
    "    )\n",
    "    # TODO: sparse tensors?\n",
    "\n",
    "    # loss_per_batch = []\n",
    "\n",
    "    start_time = time.time()\n",
    "\n",
    "    for epoch in range(CONFIG[\"EPOCHS\"]):\n",
    "        print(f\"[{time.time()}] Epoch {epoch}\")\n",
    "        for X_batch, y_batch in tqdm(dataloader):\n",
    "            # already allocated, removing to(mps) shaved 33% of time\n",
    "            X_batch, y_batch = X_batch, y_batch\n",
    "            optimizer.zero_grad()\n",
    "            y_pred = model(X_batch)\n",
    "            loss = loss_fn(y_pred.squeeze(), y_batch)\n",
    "            loss.backward()\n",
    "            optimizer.step()\n",
    "            # loss_per_batch.append(loss.item())\n",
    "\n",
    "    end_time = time.time()\n",
    "    print(f\"Time taken: {end_time - start_time:.4f} seconds\")\n",
    "\n",
    "    with torch.no_grad():\n",
    "        y_pred_train = model(X_train).squeeze()\n",
    "        y_pred_test = model(X_test).squeeze()\n",
    "\n",
    "    # sigmoid to binary\n",
    "    train_preds = (y_pred_train >= 0.5).int()\n",
    "    test_preds = (y_pred_test >= 0.5).int()\n",
    "\n",
    "    num_true_train = (y_train == 1).sum()\n",
    "    num_true_test = (y_test == 1).sum()\n",
    "    train_acc = (train_preds == y_train.int()).float().mean()\n",
    "    test_acc = (test_preds == y_test.int()).float().mean()\n",
    "\n",
    "    # plt.xlabel(\"Batch\")\n",
    "    # plt.ylabel(\"Loss\")\n",
    "    # plt.plot(loss_per_batch)\n",
    "    # plt.show()\n",
    "    # print(\"Final loss:\", loss_per_batch[-1])\n",
    "\n",
    "    print(\n",
    "        f\"Train Accuracy: {train_acc:.4f} ({train_preds.sum()}/{len(X_train)}), random guess accuracy: {max(num_true_train, len(X_train) - num_true_train) / len(X_train):.4f}\"\n",
    "    )\n",
    "    print(\n",
    "        f\"Test Accuracy: {test_acc:.4f} ({test_preds.sum()}/{len(X_test)}), random guess accuracy: {max(num_true_test, len(X_test) - num_true_test) / len(X_test):.4f}\"\n",
    "    )\n",
    "\n",
    "    precision = (\n",
    "        test_preds * y_test\n",
    "    ).sum() / test_preds.sum()  # true pos / predicted pos\n",
    "    recall = (test_preds * y_test).sum() / y_test.sum()  # true pos / actual pos\n",
    "    f1 = 2 * precision * recall / (precision + recall)\n",
    "    print(f\"Precision: {precision:.4f}, Recall: {recall:.4f}, F1: {f1:.4f}\")\n",
    "\n",
    "    return model\n",
    "\n",
    "\n",
    "m = run_nn()\n",
    "print(CONFIG)"
   ]
  },
  {
   "cell_type": "markdown",
   "id": "44042c5a",
   "metadata": {},
   "source": [
    "```js\n",
    "// 7749 vocab, 64 layer 1\n",
    "Final loss: 0.43634021282196045\n",
    "Train Accuracy: 0.8201 (61019/80000)\n",
    "Test Accuracy: 0.8158 (15540/20000)\n",
    "\n",
    "// 100 vocab, 104 layer 1, 20 epoch\n",
    "Final loss: 0.48798397183418274\n",
    "Train Accuracy: 0.7697 (62999/80000), random guess accuracy: 0.6713\n",
    "Test Accuracy: 0.7691 (16053/20000), random guess accuracy: 0.6823\n",
    "Precision: 0.7812, Recall: 0.9190, F1: 0.8445\n",
    "\n",
    "// -> 100 batches\n",
    "Final loss: 0.4811912477016449\n",
    "Train Accuracy: 0.7857 (62716/80000), random guess accuracy: 0.6713\n",
    "Test Accuracy: 0.7719 (15957/20000), random guess accuracy: 0.6823\n",
    "Precision: 0.7846, Recall: 0.9176, F1: 0.8459\n",
    "\n",
    "// -> 1000 batch SIZE\n",
    "Final loss: 0.45420441031455994\n",
    "Train Accuracy: 0.7831 (62935/80000), random guess accuracy: 0.6713\n",
    "Test Accuracy: 0.7722 (15991/20000), random guess accuracy: 0.6823\n",
    "Precision: 0.7842, Recall: 0.9190, F1: 0.8463\n",
    "\n",
    "// -> 78 layer 1\n",
    "Final loss: 0.4723219573497772\n",
    "Train Accuracy: 0.7814 (62978/80000), random guess accuracy: 0.6713\n",
    "Test Accuracy: 0.7721 (16049/20000), random guess accuracy: 0.6823\n",
    "Precision: 0.7831, Recall: 0.9211, F1: 0.8465\n",
    "\n",
    "\n",
    "// 75 layer 1, 5 layer 2\n",
    "Final loss: 0.47183775901794434\n",
    "Train Accuracy: 0.7830 (61135/80000), random guess accuracy: 0.6713\n",
    "Test Accuracy: 0.7702 (15633/20000), random guess accuracy: 0.6823\n",
    "Precision: 0.7894, Recall: 0.9044, F1: 0.8430\n",
    "```"
   ]
  },
  {
   "cell_type": "code",
   "execution_count": null,
   "id": "9c6b174d",
   "metadata": {},
   "outputs": [],
   "source": [
    "def param_to_word_mapping(model: nn.Module) -> dict[str, float]:\n",
    "    # m is something like nn.Sequential(), which is a module\n",
    "    params = list(model.parameters())\n",
    "\n",
    "    mapping = zip(bag_of_words.keys(), params[0].flatten().tolist())\n",
    "\n",
    "    return {k: v for k, v in sorted(mapping, key=lambda x: x[1], reverse=True)}\n",
    "\n",
    "\n",
    "param_to_word_mapping(m)"
   ]
  },
  {
   "cell_type": "code",
   "execution_count": null,
   "id": "0c0f2860",
   "metadata": {},
   "outputs": [],
   "source": [
    "\n"
   ]
  },
  {
   "cell_type": "code",
   "execution_count": null,
   "id": "b5cf48cc",
   "metadata": {},
   "outputs": [],
   "source": [
    "\n"
   ]
  },
  {
   "cell_type": "code",
   "execution_count": null,
   "id": "3ac6508b",
   "metadata": {},
   "outputs": [],
   "source": [
    "tm = time.time()\n",
    "torch.save(m, f\"model_{tm}.pth\")\n",
    "json.dump(bag_of_words, open(f\"bag_of_words_{tm}.json\", \"w\"))"
   ]
  },
  {
   "cell_type": "code",
   "execution_count": null,
   "id": "f83a7301",
   "metadata": {},
   "outputs": [],
   "source": [
    "# torch.serialization.add_safe_globals([nn.Sequential, nn.Linear, nn.Sigmoid, nn.ReLU])\n",
    "# m2 = torch.load(\"model.pth\")"
   ]
  },
  {
   "cell_type": "code",
   "execution_count": null,
   "id": "2caaf890",
   "metadata": {},
   "outputs": [],
   "source": []
  }
 ],
 "metadata": {
  "kernelspec": {
   "display_name": ".venv",
   "language": "python",
   "name": "python3"
  },
  "language_info": {
   "codemirror_mode": {
    "name": "ipython",
    "version": 3
   },
   "file_extension": ".py",
   "mimetype": "text/x-python",
   "name": "python",
   "nbconvert_exporter": "python",
   "pygments_lexer": "ipython3",
   "version": "3.11.12"
  }
 },
 "nbformat": 4,
 "nbformat_minor": 5
}
